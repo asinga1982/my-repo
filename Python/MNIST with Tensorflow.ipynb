{
 "cells": [
  {
   "cell_type": "code",
   "execution_count": 1,
   "metadata": {
    "collapsed": true
   },
   "outputs": [],
   "source": [
    "import tensorflow as tf"
   ]
  },
  {
   "cell_type": "code",
   "execution_count": 2,
   "metadata": {
    "collapsed": true
   },
   "outputs": [],
   "source": [
    "from tensorflow.examples.tutorials.mnist import input_data"
   ]
  },
  {
   "cell_type": "code",
   "execution_count": 3,
   "metadata": {},
   "outputs": [
    {
     "name": "stdout",
     "output_type": "stream",
     "text": [
      "Successfully downloaded train-images-idx3-ubyte.gz 9912422 bytes.\n",
      "Extracting /tmp/data/train-images-idx3-ubyte.gz\n",
      "Successfully downloaded train-labels-idx1-ubyte.gz 28881 bytes.\n",
      "Extracting /tmp/data/train-labels-idx1-ubyte.gz\n",
      "Successfully downloaded t10k-images-idx3-ubyte.gz 1648877 bytes.\n",
      "Extracting /tmp/data/t10k-images-idx3-ubyte.gz\n",
      "Successfully downloaded t10k-labels-idx1-ubyte.gz 4542 bytes.\n",
      "Extracting /tmp/data/t10k-labels-idx1-ubyte.gz\n"
     ]
    }
   ],
   "source": [
    "mnist = input_data.read_data_sets('/tmp/data', one_hot=True)"
   ]
  },
  {
   "cell_type": "code",
   "execution_count": 6,
   "metadata": {},
   "outputs": [
    {
     "data": {
      "text/plain": [
       "(55000, 784)"
      ]
     },
     "execution_count": 6,
     "metadata": {},
     "output_type": "execute_result"
    }
   ],
   "source": [
    "mnist.train.images.shape\n",
    "#Each row is an image"
   ]
  },
  {
   "cell_type": "code",
   "execution_count": 7,
   "metadata": {},
   "outputs": [
    {
     "data": {
      "text/plain": [
       "numpy.ndarray"
      ]
     },
     "execution_count": 7,
     "metadata": {},
     "output_type": "execute_result"
    }
   ],
   "source": [
    "type(mnist.train.images)"
   ]
  },
  {
   "cell_type": "code",
   "execution_count": 16,
   "metadata": {
    "collapsed": true
   },
   "outputs": [],
   "source": [
    "#Sample an image and convert it as 28x28 Matrix\n",
    "sample=mnist.train.images[200].reshape(28,28)"
   ]
  },
  {
   "cell_type": "code",
   "execution_count": 10,
   "metadata": {},
   "outputs": [],
   "source": [
    "import matplotlib.pyplot as plt\n",
    "%matplotlib inline"
   ]
  },
  {
   "cell_type": "code",
   "execution_count": 17,
   "metadata": {},
   "outputs": [
    {
     "data": {
      "text/plain": [
       "<matplotlib.image.AxesImage at 0x7f094ad28b90>"
      ]
     },
     "execution_count": 17,
     "metadata": {},
     "output_type": "execute_result"
    },
    {
     "data": {
      "image/png": "[encoded data removed]",
      "text/plain": [
       "<matplotlib.figure.Figure at 0x7f094acc9dd0>"
      ]
     },
     "metadata": {},
     "output_type": "display_data"
    }
   ],
   "source": [
    "#Plot an image using matplotlib\n",
    "plt.imshow(sample,cmap='Greys')"
   ]
  },
  {
   "cell_type": "code",
   "execution_count": 93,
   "metadata": {
    "collapsed": true
   },
   "outputs": [],
   "source": [
    "learning_rate = 0.001\n",
    "training_epochs = 50\n",
    "batch_size=100"
   ]
  },
  {
   "cell_type": "code",
   "execution_count": 94,
   "metadata": {
    "collapsed": true
   },
   "outputs": [],
   "source": [
    "n_classes = 10\n",
    "samples = 55000 "
   ]
  },
  {
   "cell_type": "code",
   "execution_count": 95,
   "metadata": {
    "collapsed": true
   },
   "outputs": [],
   "source": [
    "n_input= 28*28"
   ]
  },
  {
   "cell_type": "code",
   "execution_count": 96,
   "metadata": {
    "collapsed": true
   },
   "outputs": [],
   "source": [
    "n_hidden1 = 256\n",
    "n_hidden2 = 256"
   ]
  },
  {
   "cell_type": "code",
   "execution_count": 97,
   "metadata": {
    "collapsed": true
   },
   "outputs": [],
   "source": [
    "def multilayer_perceptron(x,weights, biases):\n",
    "    \"\"\"\n",
    "    x: PLaceholder for Input Array\n",
    "    weights: Dict of weights\n",
    "    biases: Dict of biases\n",
    "    \"\"\"\n",
    "    #Layer 1 - Set up the layer 1 and activiation fn\n",
    "    layer1 = tf.matmul(x,weights['h1']) + biases['b1']\n",
    "    layer1 = tf.nn.relu(layer1)\n",
    "    \n",
    "    #Layer 2 - Set up the layer 2 and activiation fn\n",
    "    layer2 = tf.matmul(layer1,weights['h2']) + biases['b2']\n",
    "    layer2 = tf.nn.relu(layer2)\n",
    "    \n",
    "    #Output Layer \n",
    "    out = tf.matmul(layer2,weights['out']) + biases['out']\n",
    "        \n",
    "    return out"
   ]
  },
  {
   "cell_type": "code",
   "execution_count": 98,
   "metadata": {},
   "outputs": [],
   "source": [
    "#Dict for weights\n",
    "weights = {\n",
    "    'h1':tf.Variable(tf.random_normal([n_input,n_hidden1])),\n",
    "    'h2':tf.Variable(tf.random_normal([n_hidden1,n_hidden2])),\n",
    "    'out':tf.Variable(tf.random_normal([n_hidden2, n_classes]))\n",
    "}"
   ]
  },
  {
   "cell_type": "code",
   "execution_count": 99,
   "metadata": {
    "collapsed": true
   },
   "outputs": [],
   "source": [
    "#Dict for Biases\n",
    "biases = {\n",
    "    'b1':tf.Variable(tf.random_normal([n_hidden1])),\n",
    "    'b2':tf.Variable(tf.random_normal([n_hidden2])),\n",
    "    'out':tf.Variable(tf.random_normal([n_classes]))\n",
    "}"
   ]
  },
  {
   "cell_type": "code",
   "execution_count": 100,
   "metadata": {},
   "outputs": [],
   "source": [
    "x = tf.placeholder('float',[None,n_input])\n",
    "y = tf.placeholder('float',[None,n_classes])"
   ]
  },
  {
   "cell_type": "code",
   "execution_count": 101,
   "metadata": {},
   "outputs": [],
   "source": [
    "pred = multilayer_perceptron(x,weights,biases)"
   ]
  },
  {
   "cell_type": "code",
   "execution_count": 102,
   "metadata": {},
   "outputs": [],
   "source": [
    "cost = tf.reduce_mean(tf.nn.softmax_cross_entropy_with_logits(labels=y,logits=pred))\n",
    "opt = tf.train.AdamOptimizer(learning_rate=learning_rate).minimize(cost)"
   ]
  },
  {
   "cell_type": "markdown",
   "metadata": {},
   "source": [
    "# Training"
   ]
  },
  {
   "cell_type": "code",
   "execution_count": 103,
   "metadata": {
    "collapsed": true
   },
   "outputs": [],
   "source": [
    "t = mnist.train.next_batch(1)"
   ]
  },
  {
   "cell_type": "code",
   "execution_count": 104,
   "metadata": {},
   "outputs": [
    {
     "data": {
      "text/plain": [
       "<matplotlib.image.AxesImage at 0x7f0944541a10>"
      ]
     },
     "execution_count": 104,
     "metadata": {},
     "output_type": "execute_result"
    },
    {
     "data": {
      "image/png": "[encoded data removed]",
      "text/plain": [
       "<matplotlib.figure.Figure at 0x7f094a7bdc50>"
      ]
     },
     "metadata": {},
     "output_type": "display_data"
    }
   ],
   "source": [
    "plt.imshow(t[0].reshape(28,28), cmap='Greys')"
   ]
  },
  {
   "cell_type": "code",
   "execution_count": 105,
   "metadata": {},
   "outputs": [
    {
     "data": {
      "text/plain": [
       "array([[ 0.,  0.,  0.,  0.,  0.,  0.,  0.,  0.,  1.,  0.]])"
      ]
     },
     "execution_count": 105,
     "metadata": {},
     "output_type": "execute_result"
    }
   ],
   "source": [
    "t[1]"
   ]
  },
  {
   "cell_type": "markdown",
   "metadata": {},
   "source": [
    "## Run the Session"
   ]
  },
  {
   "cell_type": "code",
   "execution_count": 106,
   "metadata": {
    "collapsed": true
   },
   "outputs": [],
   "source": [
    "sess = tf.InteractiveSession()"
   ]
  },
  {
   "cell_type": "code",
   "execution_count": 107,
   "metadata": {},
   "outputs": [],
   "source": [
    "init = tf.global_variables_initializer()"
   ]
  },
  {
   "cell_type": "code",
   "execution_count": 108,
   "metadata": {
    "collapsed": true
   },
   "outputs": [],
   "source": [
    "sess.run(init)"
   ]
  },
  {
   "cell_type": "code",
   "execution_count": 109,
   "metadata": {},
   "outputs": [
    {
     "name": "stdout",
     "output_type": "stream",
     "text": [
      "('Cost for epoch {} is {}', 1, 838.09607152938725)\n",
      "('Cost for epoch {} is {}', 2, 216.30289814472215)\n",
      "('Cost for epoch {} is {}', 3, 135.48922590434566)\n",
      "('Cost for epoch {} is {}', 4, 93.585531693100876)\n",
      "('Cost for epoch {} is {}', 5, 67.878875721990994)\n",
      "('Cost for epoch {} is {}', 6, 50.438626184913872)\n",
      "('Cost for epoch {} is {}', 7, 36.47918306463292)\n",
      "('Cost for epoch {} is {}', 8, 27.948178034126499)\n",
      "('Cost for epoch {} is {}', 9, 20.127316808290516)\n",
      "('Cost for epoch {} is {}', 10, 15.48913040010286)\n",
      "('Cost for epoch {} is {}', 11, 11.802850923144138)\n",
      "('Cost for epoch {} is {}', 12, 8.6563557465330252)\n",
      "('Cost for epoch {} is {}', 13, 6.7778088996768817)\n",
      "('Cost for epoch {} is {}', 14, 5.360316066781345)\n",
      "('Cost for epoch {} is {}', 15, 4.0948335226473658)\n",
      "('Cost for epoch {} is {}', 16, 3.9598348278207123)\n",
      "('Cost for epoch {} is {}', 17, 2.8890373201322004)\n",
      "('Cost for epoch {} is {}', 18, 2.6930742398175722)\n",
      "('Cost for epoch {} is {}', 19, 2.8016639832829489)\n",
      "('Cost for epoch {} is {}', 20, 2.2567989879857984)\n",
      "('Cost for epoch {} is {}', 21, 1.8791436182171297)\n",
      "('Cost for epoch {} is {}', 22, 2.0599794854073221)\n",
      "('Cost for epoch {} is {}', 23, 1.8798267753040054)\n",
      "('Cost for epoch {} is {}', 24, 1.5933737761433346)\n",
      "('Cost for epoch {} is {}', 25, 1.5063353210735024)\n",
      "('Cost for epoch {} is {}', 26, 2.1762124058781809)\n",
      "('Cost for epoch {} is {}', 27, 1.4025732484650695)\n",
      "('Cost for epoch {} is {}', 28, 1.3227849076855611)\n",
      "('Cost for epoch {} is {}', 29, 1.6855913615433133)\n",
      "('Cost for epoch {} is {}', 30, 1.2449361804768317)\n",
      "('Cost for epoch {} is {}', 31, 1.0087125363633569)\n",
      "('Cost for epoch {} is {}', 32, 1.4239741772893197)\n",
      "('Cost for epoch {} is {}', 33, 1.5211419739093748)\n",
      "('Cost for epoch {} is {}', 34, 1.1506858172168835)\n",
      "('Cost for epoch {} is {}', 35, 0.94647116077729665)\n",
      "('Cost for epoch {} is {}', 36, 0.955632303809821)\n",
      "('Cost for epoch {} is {}', 37, 1.4694710973305851)\n",
      "('Cost for epoch {} is {}', 38, 0.88439552506027386)\n",
      "('Cost for epoch {} is {}', 39, 1.0624110529718445)\n",
      "('Cost for epoch {} is {}', 40, 0.97423176147936719)\n",
      "('Cost for epoch {} is {}', 41, 0.97631114166185173)\n",
      "('Cost for epoch {} is {}', 42, 1.1429636672152363)\n",
      "('Cost for epoch {} is {}', 43, 0.84715953494659346)\n",
      "('Cost for epoch {} is {}', 44, 0.82183487184566917)\n",
      "('Cost for epoch {} is {}', 45, 1.2212658373079919)\n",
      "('Cost for epoch {} is {}', 46, 1.2713878837667889)\n",
      "('Cost for epoch {} is {}', 47, 0.68651321601780324)\n",
      "('Cost for epoch {} is {}', 48, 0.61484854130812272)\n",
      "('Cost for epoch {} is {}', 49, 0.89762865985750862)\n",
      "('Cost for epoch {} is {}', 50, 0.77637859884074167)\n",
      "Training complete\n"
     ]
    }
   ],
   "source": [
    "# Actual training\n",
    "#Loop for no of epochs\n",
    "for i in range(training_epochs):\n",
    "    avg_cost = 0.0\n",
    "    \n",
    "    batches = int(samples/batch_size)\n",
    "    \n",
    "    # Loop for no of batches\n",
    "    for j in range(batches):\n",
    "        x_tr, y_tr = mnist.train.next_batch(batch_size)\n",
    "        \n",
    "        _,c = sess.run([opt,cost],feed_dict={x:x_tr, y:y_tr})\n",
    "        \n",
    "        avg_cost = avg_cost + c/batch_size\n",
    "        \n",
    "    print(\"Cost for epoch {} is {}\", i+1, avg_cost)\n",
    "\n",
    "print(\"Training complete\")"
   ]
  },
  {
   "cell_type": "markdown",
   "metadata": {},
   "source": [
    "## Model Evaluation"
   ]
  },
  {
   "cell_type": "code",
   "execution_count": 110,
   "metadata": {},
   "outputs": [],
   "source": [
    "correct_pred = tf.equal(tf.argmax(pred,1),tf.argmax(y,1))"
   ]
  },
  {
   "cell_type": "code",
   "execution_count": 111,
   "metadata": {},
   "outputs": [
    {
     "data": {
      "text/plain": [
       "<tf.Tensor 'strided_slice_3:0' shape=() dtype=bool>"
      ]
     },
     "execution_count": 111,
     "metadata": {},
     "output_type": "execute_result"
    }
   ],
   "source": [
    "correct_pred[0]"
   ]
  },
  {
   "cell_type": "code",
   "execution_count": 112,
   "metadata": {
    "collapsed": true
   },
   "outputs": [],
   "source": [
    "correct_pred = tf.cast(correct_pred, 'float')"
   ]
  },
  {
   "cell_type": "code",
   "execution_count": 113,
   "metadata": {},
   "outputs": [
    {
     "data": {
      "text/plain": [
       "<tf.Tensor 'strided_slice_4:0' shape=() dtype=float32>"
      ]
     },
     "execution_count": 113,
     "metadata": {},
     "output_type": "execute_result"
    }
   ],
   "source": [
    "correct_pred[0]"
   ]
  },
  {
   "cell_type": "code",
   "execution_count": 114,
   "metadata": {
    "collapsed": true
   },
   "outputs": [],
   "source": [
    "accuracy = tf.reduce_mean(correct_pred)"
   ]
  },
  {
   "cell_type": "code",
   "execution_count": 115,
   "metadata": {},
   "outputs": [
    {
     "name": "stdout",
     "output_type": "stream",
     "text": [
      "Tensor(\"Mean_6:0\", shape=(), dtype=float32)\n"
     ]
    }
   ],
   "source": [
    "print(accuracy)"
   ]
  },
  {
   "cell_type": "code",
   "execution_count": 116,
   "metadata": {},
   "outputs": [
    {
     "data": {
      "text/plain": [
       "0.9598"
      ]
     },
     "execution_count": 116,
     "metadata": {},
     "output_type": "execute_result"
    }
   ],
   "source": [
    "#Find accuracy using test set\n",
    "accuracy.eval({x:mnist.test.images, y:mnist.test.labels})"
   ]
  }
 ],
 "metadata": {
  "kernelspec": {
   "display_name": "Python 2",
   "language": "python",
   "name": "python2"
  },
  "language_info": {
   "codemirror_mode": {
    "name": "ipython",
    "version": 2
   },
   "file_extension": ".py",
   "mimetype": "text/x-python",
   "name": "python",
   "nbconvert_exporter": "python",
   "pygments_lexer": "ipython2",
   "version": "2.7.12"
  }
 },
 "nbformat": 4,
 "nbformat_minor": 2
}
